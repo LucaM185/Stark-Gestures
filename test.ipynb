{
 "cells": [
  {
   "cell_type": "code",
   "execution_count": 4,
   "metadata": {},
   "outputs": [
    {
     "name": "stderr",
     "output_type": "stream",
     "text": [
      "WARNING: All log messages before absl::InitializeLog() is called are written to STDERR\n",
      "I0000 00:00:1742328309.252133 3350287 gl_context.cc:369] GL version: 2.1 (2.1 Metal - 89.3), renderer: Apple M1 Pro\n"
     ]
    },
    {
     "name": "stderr",
     "output_type": "stream",
     "text": [
      "INFO: Created TensorFlow Lite XNNPACK delegate for CPU.\n",
      "W0000 00:00:1742328309.263178 3351471 inference_feedback_manager.cc:114] Feedback manager requires a model with a single signature inference. Disabling support for feedback tensors.\n",
      "W0000 00:00:1742328309.268637 3351471 inference_feedback_manager.cc:114] Feedback manager requires a model with a single signature inference. Disabling support for feedback tensors.\n"
     ]
    }
   ],
   "source": [
    "import cv2\n",
    "import mediapipe as mp\n",
    "import time\n",
    "import numpy as np\n",
    "import pyautogui\n",
    "\n",
    "mp_hands = mp.solutions.hands\n",
    "hands = mp_hands.Hands()"
   ]
  },
  {
   "cell_type": "code",
   "execution_count": 5,
   "metadata": {},
   "outputs": [
    {
     "name": "stderr",
     "output_type": "stream",
     "text": [
      "OpenCV: not authorized to capture video (status 0), requesting...\n",
      "OpenCV: camera failed to properly initialize!\n"
     ]
    }
   ],
   "source": [
    "   \n",
    "def findHands(hands, image):\n",
    "    return hands.process(image)\n",
    "        \n",
    "def drawHands(image, my_hands):\n",
    "    global mp_hands\n",
    "    if my_hands.multi_hand_landmarks:\n",
    "        for hand_landmarks in my_hands.multi_hand_landmarks:\n",
    "            mp.solutions.drawing_utils.draw_landmarks(image, hand_landmarks, mp_hands.HAND_CONNECTIONS)            \n",
    "    return image\n",
    "\n",
    "def getPointer(image, my_hands):  # image is only used for its shape\n",
    "    if my_hands.multi_hand_landmarks:\n",
    "        for hand_landmarks in my_hands.multi_hand_landmarks:\n",
    "            # check if landmark is tip of index\n",
    "            if hand_landmarks.landmark[8].y < hand_landmarks.landmark[5].y:\n",
    "                pos_idx = (int(hand_landmarks.landmark[8].x*image.shape[1]), int(hand_landmarks.landmark[8].y*image.shape[0]))\n",
    "            else:\n",
    "                pos_idx = (int(hand_landmarks.landmark[8].x*image.shape[1]), int(hand_landmarks.landmark[8].y*image.shape[0]))\n",
    "            # check if landmark is tip of thumb\n",
    "            if hand_landmarks.landmark[4].x < hand_landmarks.landmark[3].x:\n",
    "                pos_thumb = (int(hand_landmarks.landmark[4].x*image.shape[1]), int(hand_landmarks.landmark[4].y*image.shape[0]))\n",
    "            else:\n",
    "                pos_thumb = (int(hand_landmarks.landmark[4].x*image.shape[1]), int(hand_landmarks.landmark[4].y*image.shape[0]))\n",
    "        return pos_idx, pos_thumb\n",
    "    return None, None\n",
    "\n",
    "def getKeypoints(myhands):\n",
    "    data = []\n",
    "    if myhands.multi_hand_landmarks:\n",
    "        for hand_landmarks in myhands.multi_hand_landmarks:\n",
    "            for i, landmark in enumerate(hand_landmarks.landmark):\n",
    "                data.append([landmark.x, landmark.y, landmark.z])\n",
    "    data = np.array(data)\n",
    "    \n",
    "    hands = []\n",
    "    centers = []\n",
    "    for i in range(0, data.shape[0], 21):\n",
    "        hands.append(data[i:i+21])\n",
    "        centers.append(np.mean(hands[-1], axis = 0).reshape(3))\n",
    "    hands = np.array(hands).reshape(-1, 21, 3)\n",
    "    centers = np.array(centers).reshape(-1, 3)\n",
    "        \n",
    "    if len(centers.shape) == 2 and centers.shape[0] >= 2:\n",
    "        dist = (np.sum((centers[0, :2] - centers[1, :2])**2))**0.5\n",
    "    else:\n",
    "        dist = None\n",
    "    \n",
    "    dataset = {\n",
    "        \"hands\": hands,\n",
    "        \"centers\": centers,\n",
    "        \"distance\": dist\n",
    "    }\n",
    "    return dataset\n",
    "\n",
    "\n",
    "cap = cv2.VideoCapture(0)\n",
    "cap.set(cv2.CAP_PROP_FRAME_WIDTH, 1920//4)\n",
    "cap.set(cv2.CAP_PROP_FRAME_HEIGHT, 1080//4)\n",
    "dataset = []\n",
    "\n",
    "prev = time.time()\n",
    "history = []\n"
   ]
  },
  {
   "cell_type": "code",
   "execution_count": 6,
   "metadata": {},
   "outputs": [],
   "source": [
    "import multiprocessing \n",
    "\n",
    "def asyncload(result_queue):\n",
    "    ret, frame = cap.read()\n",
    "    image = cv2.cvtColor(frame, cv2.COLOR_BGR2RGB)\n",
    "    image = cv2.flip(image, 1)\n",
    "\n",
    "\n",
    "    # Find keypoints, draw them and get back useful data\n",
    "    myhands = findHands(hands, image)\n",
    "    drawHands(image, myhands)\n",
    "    data = getKeypoints(myhands)\n",
    "    pol, ind = getPointer(image, myhands)\n",
    "\n",
    "    result_queue.put([image, pol, ind, data])\n"
   ]
  },
  {
   "cell_type": "code",
   "execution_count": 7,
   "metadata": {},
   "outputs": [],
   "source": [
    "import threading\n",
    "import queue"
   ]
  },
  {
   "cell_type": "code",
   "execution_count": 8,
   "metadata": {},
   "outputs": [
    {
     "name": "stderr",
     "output_type": "stream",
     "text": [
      "Exception in thread Thread-9:\n",
      "Traceback (most recent call last):\n",
      "  File \"/Applications/Xcode.app/Contents/Developer/Library/Frameworks/Python3.framework/Versions/3.9/lib/python3.9/threading.py\", line 973, in _bootstrap_inner\n",
      "    self.run()\n",
      "  File \"/Users/lucam/Library/Python/3.9/lib/python/site-packages/ipykernel/ipkernel.py\", line 766, in run_closure\n",
      "    _threading_Thread_run(self)\n",
      "  File \"/Applications/Xcode.app/Contents/Developer/Library/Frameworks/Python3.framework/Versions/3.9/lib/python3.9/threading.py\", line 910, in run\n",
      "    self._target(*self._args, **self._kwargs)\n",
      "  File \"/var/folders/8f/s2460vq56slb0jp9q_sc8ksw0000gn/T/ipykernel_55271/3356976369.py\", line 5, in asyncload\n",
      "cv2.error: OpenCV(4.11.0) /Users/xperience/GHA-Actions-OpenCV/_work/opencv-python/opencv-python/opencv/modules/imgproc/src/color.cpp:199: error: (-215:Assertion failed) !_src.empty() in function 'cvtColor'\n",
      "\n"
     ]
    },
    {
     "ename": "KeyboardInterrupt",
     "evalue": "",
     "output_type": "error",
     "traceback": [
      "\u001b[0;31m---------------------------------------------------------------------------\u001b[0m",
      "\u001b[0;31mKeyboardInterrupt\u001b[0m                         Traceback (most recent call last)",
      "Cell \u001b[0;32mIn[8], line 7\u001b[0m\n\u001b[1;32m      5\u001b[0m \u001b[38;5;28;01mwhile\u001b[39;00m \u001b[38;5;28;01mTrue\u001b[39;00m:\n\u001b[1;32m      6\u001b[0m     thread1\u001b[38;5;241m.\u001b[39mjoin()\n\u001b[0;32m----> 7\u001b[0m     image, pol, ind, data \u001b[38;5;241m=\u001b[39m \u001b[43mresult_queue\u001b[49m\u001b[38;5;241;43m.\u001b[39;49m\u001b[43mget\u001b[49m\u001b[43m(\u001b[49m\u001b[43m)\u001b[49m\n\u001b[1;32m      9\u001b[0m     thread1 \u001b[38;5;241m=\u001b[39m threading\u001b[38;5;241m.\u001b[39mThread(target\u001b[38;5;241m=\u001b[39masyncload, args\u001b[38;5;241m=\u001b[39m(result_queue,))\n\u001b[1;32m     10\u001b[0m     thread1\u001b[38;5;241m.\u001b[39mstart()\n",
      "File \u001b[0;32m/Applications/Xcode.app/Contents/Developer/Library/Frameworks/Python3.framework/Versions/3.9/lib/python3.9/queue.py:171\u001b[0m, in \u001b[0;36mQueue.get\u001b[0;34m(self, block, timeout)\u001b[0m\n\u001b[1;32m    169\u001b[0m \u001b[38;5;28;01melif\u001b[39;00m timeout \u001b[38;5;129;01mis\u001b[39;00m \u001b[38;5;28;01mNone\u001b[39;00m:\n\u001b[1;32m    170\u001b[0m     \u001b[38;5;28;01mwhile\u001b[39;00m \u001b[38;5;129;01mnot\u001b[39;00m \u001b[38;5;28mself\u001b[39m\u001b[38;5;241m.\u001b[39m_qsize():\n\u001b[0;32m--> 171\u001b[0m         \u001b[38;5;28;43mself\u001b[39;49m\u001b[38;5;241;43m.\u001b[39;49m\u001b[43mnot_empty\u001b[49m\u001b[38;5;241;43m.\u001b[39;49m\u001b[43mwait\u001b[49m\u001b[43m(\u001b[49m\u001b[43m)\u001b[49m\n\u001b[1;32m    172\u001b[0m \u001b[38;5;28;01melif\u001b[39;00m timeout \u001b[38;5;241m<\u001b[39m \u001b[38;5;241m0\u001b[39m:\n\u001b[1;32m    173\u001b[0m     \u001b[38;5;28;01mraise\u001b[39;00m \u001b[38;5;167;01mValueError\u001b[39;00m(\u001b[38;5;124m\"\u001b[39m\u001b[38;5;124m'\u001b[39m\u001b[38;5;124mtimeout\u001b[39m\u001b[38;5;124m'\u001b[39m\u001b[38;5;124m must be a non-negative number\u001b[39m\u001b[38;5;124m\"\u001b[39m)\n",
      "File \u001b[0;32m/Applications/Xcode.app/Contents/Developer/Library/Frameworks/Python3.framework/Versions/3.9/lib/python3.9/threading.py:312\u001b[0m, in \u001b[0;36mCondition.wait\u001b[0;34m(self, timeout)\u001b[0m\n\u001b[1;32m    310\u001b[0m \u001b[38;5;28;01mtry\u001b[39;00m:    \u001b[38;5;66;03m# restore state no matter what (e.g., KeyboardInterrupt)\u001b[39;00m\n\u001b[1;32m    311\u001b[0m     \u001b[38;5;28;01mif\u001b[39;00m timeout \u001b[38;5;129;01mis\u001b[39;00m \u001b[38;5;28;01mNone\u001b[39;00m:\n\u001b[0;32m--> 312\u001b[0m         \u001b[43mwaiter\u001b[49m\u001b[38;5;241;43m.\u001b[39;49m\u001b[43macquire\u001b[49m\u001b[43m(\u001b[49m\u001b[43m)\u001b[49m\n\u001b[1;32m    313\u001b[0m         gotit \u001b[38;5;241m=\u001b[39m \u001b[38;5;28;01mTrue\u001b[39;00m\n\u001b[1;32m    314\u001b[0m     \u001b[38;5;28;01melse\u001b[39;00m:\n",
      "\u001b[0;31mKeyboardInterrupt\u001b[0m: "
     ]
    }
   ],
   "source": [
    "result_queue = queue.Queue()\n",
    "thread1 = threading.Thread(target=asyncload, args=(result_queue,))\n",
    "thread1.start()\n",
    "\n",
    "while True:\n",
    "    thread1.join()\n",
    "    image, pol, ind, data = result_queue.get()\n",
    "    \n",
    "    thread1 = threading.Thread(target=asyncload, args=(result_queue,))\n",
    "    thread1.start()\n",
    "\n",
    "\n",
    "    if image.mean() < 90:\n",
    "        # throw an exception\n",
    "        print(\"No light\")\n",
    "        break\n",
    "\n",
    "    \n",
    "    if pol is not None and ind is not None:\n",
    "        mean = (pol[0]+ind[0])/2, (pol[1]+ind[1])/2 \n",
    "        dist = ((pol[0]-ind[0])**2 + (pol[1]-ind[1])**2)**0.5\n",
    "\n",
    "        if dist < 50:\n",
    "            cv2.circle(image, (int(mean[0]), int(mean[1])), 10, (255, 255, 255), -1)\n",
    "            pyautogui.moveTo(mean[0]*4, mean[1]*4)\n",
    "            pyautogui.click()\n",
    "\n",
    "        elif dist > 50 and dist < 250:\n",
    "            cv2.circle(image, (int(mean[0]), int(mean[1])), 10, (0, 0, 0), -1)\n",
    "            pyautogui.moveTo(mean[0]*4, mean[1]*4)\n",
    "\n",
    "    \n",
    "    image = cv2.cvtColor(image, cv2.COLOR_RGB2BGR)\n",
    "    image = cv2.resize(image, (1280, 720))\n",
    "    \n",
    "    # find centers\n",
    "    if len(data[\"centers\"]) > 0:\n",
    "        for x, y, z in data[\"centers\"]:\n",
    "            image = cv2.circle(image, (int(x*1280), int(y*720)), 10, (255, 255, 255), -1)\n",
    "\n",
    "    n = 0\n",
    "    \n",
    "    cv2.putText(image, str(round(1/(time.time()-prev), 1)), (20, 50+50*(n+2)), cv2.FONT_HERSHEY_SIMPLEX, 1, (0, 0, 255), 2)\n",
    "    cv2.imshow('Hand Tracking', cv2.resize(image, (1600//2, 900//2)))\n",
    "\n",
    "    # Step 10: Break the loop if the user presses the 'q' key\n",
    "    if cv2.waitKey(10) & (0xFF == ord('q') or 0xFF == 27):\n",
    "        break    \n",
    "\n",
    "    prev = time.time()\n",
    "    \n",
    "    \n"
   ]
  },
  {
   "cell_type": "code",
   "execution_count": null,
   "metadata": {},
   "outputs": [],
   "source": [
    "\n",
    "\n",
    "\n",
    "# Step 9: Release the webcam and close the window\n",
    "cap.release()\n",
    "cv2.destroyAllWindows()\n",
    "\n"
   ]
  },
  {
   "cell_type": "code",
   "execution_count": null,
   "metadata": {},
   "outputs": [],
   "source": []
  }
 ],
 "metadata": {
  "kernelspec": {
   "display_name": "Python 3",
   "language": "python",
   "name": "python3"
  },
  "language_info": {
   "codemirror_mode": {
    "name": "ipython",
    "version": 3
   },
   "file_extension": ".py",
   "mimetype": "text/x-python",
   "name": "python",
   "nbconvert_exporter": "python",
   "pygments_lexer": "ipython3",
   "version": "3.9.6"
  }
 },
 "nbformat": 4,
 "nbformat_minor": 2
}
